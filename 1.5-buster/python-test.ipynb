{
 "cells": [
  {
   "cell_type": "markdown",
   "id": "danish-nursery",
   "metadata": {},
   "source": [
    "# Test that Python works - create a plot with seaborn"
   ]
  },
  {
   "cell_type": "code",
   "execution_count": null,
   "id": "divine-amino",
   "metadata": {},
   "outputs": [],
   "source": [
    "# This image does not yet have these packages installed\n",
    "!mamba install -yq numpy seaborn"
   ]
  },
  {
   "cell_type": "markdown",
   "id": "welsh-speaker",
   "metadata": {},
   "source": [
    "Example from https://seaborn.pydata.org/examples/hexbin_marginals.html"
   ]
  },
  {
   "cell_type": "code",
   "execution_count": null,
   "id": "convertible-honey",
   "metadata": {},
   "outputs": [],
   "source": [
    "import numpy as np\n",
    "import seaborn as sns\n",
    "sns.set_theme(style=\"ticks\")\n",
    "\n",
    "rs = np.random.RandomState(11)\n",
    "x = rs.gamma(2, size=1000)\n",
    "y = -.5 * x + rs.normal(size=1000)\n",
    "\n",
    "sns.jointplot(x=x, y=y, kind=\"hex\", color=\"#4CB391\")"
   ]
  },
  {
   "cell_type": "markdown",
   "id": "spectacular-service",
   "metadata": {},
   "source": [
    "# Test Julia integration works "
   ]
  },
  {
   "cell_type": "markdown",
   "id": "welcome-cameroon",
   "metadata": {},
   "source": [
    "# Install PyJulia\n",
    "If you need to call Julia from Python, this docker image may not be the best as it uses conda to install Python.\n",
    "The following workaround is needed for this to work:\n",
    "https://pyjulia.readthedocs.io/en/latest/troubleshooting.html"
   ]
  },
  {
   "cell_type": "code",
   "execution_count": null,
   "id": "second-thomson",
   "metadata": {},
   "outputs": [],
   "source": [
    "# Install PyJulia\n",
    "!pip install julia"
   ]
  },
  {
   "cell_type": "code",
   "execution_count": null,
   "id": "twelve-builder",
   "metadata": {},
   "outputs": [],
   "source": [
    "from julia.api import Julia\n",
    "jl = Julia(compiled_modules=False)"
   ]
  },
  {
   "cell_type": "code",
   "execution_count": null,
   "id": "ethical-property",
   "metadata": {},
   "outputs": [],
   "source": [
    "from julia import Base\n",
    "Base.maximum([1, 4, 0, -1, 3])"
   ]
  },
  {
   "cell_type": "code",
   "execution_count": null,
   "id": "compliant-feeling",
   "metadata": {},
   "outputs": [],
   "source": []
  }
 ],
 "metadata": {
  "kernelspec": {
   "display_name": "Python 3",
   "language": "python",
   "name": "python3"
  },
  "language_info": {
   "codemirror_mode": {
    "name": "ipython",
    "version": 3
   },
   "file_extension": ".py",
   "mimetype": "text/x-python",
   "name": "python",
   "nbconvert_exporter": "python",
   "pygments_lexer": "ipython3",
   "version": "3.8.8"
  }
 },
 "nbformat": 4,
 "nbformat_minor": 5
}
