{
 "cells": [
  {
   "cell_type": "markdown",
   "id": "unknown-category",
   "metadata": {},
   "source": [
    "# Test that Julia works - create a plot with Plots.jl"
   ]
  },
  {
   "cell_type": "markdown",
   "id": "consecutive-crazy",
   "metadata": {},
   "source": [
    "Use Run All Cells, this will take several minutes to complete"
   ]
  },
  {
   "cell_type": "code",
   "execution_count": null,
   "id": "literary-feedback",
   "metadata": {},
   "outputs": [],
   "source": [
    "# This image does not yet have these packages installed\n",
    "import Pkg; Pkg.add([\"Plots\",\"PyCall\"])"
   ]
  },
  {
   "cell_type": "code",
   "execution_count": null,
   "id": "horizontal-disclaimer",
   "metadata": {},
   "outputs": [],
   "source": [
    "using Plots\n",
    "gr()"
   ]
  },
  {
   "cell_type": "markdown",
   "id": "protective-strike",
   "metadata": {},
   "source": [
    "Example from http://docs.juliaplots.org/latest/generated/gr/"
   ]
  },
  {
   "cell_type": "code",
   "execution_count": null,
   "id": "electric-dominant",
   "metadata": {},
   "outputs": [],
   "source": [
    "plot(sin, (x->begin\n",
    "            sin(2x)\n",
    "        end), 0, 2π, line = 4, leg = false, fill = (0, :orange))"
   ]
  },
  {
   "cell_type": "markdown",
   "id": "married-cricket",
   "metadata": {},
   "source": [
    "# Test Python integration by calling some Python functions"
   ]
  },
  {
   "cell_type": "markdown",
   "id": "harmful-jason",
   "metadata": {},
   "source": [
    "More information at https://github.com/JuliaPy/PyCall.jl"
   ]
  },
  {
   "cell_type": "code",
   "execution_count": null,
   "id": "opposite-tokyo",
   "metadata": {},
   "outputs": [],
   "source": [
    "using PyCall\n",
    "math = pyimport(\"math\")\n",
    "math.sin(math.pi / 4) # returns ≈ 1/√2 = 0.70710678..."
   ]
  },
  {
   "cell_type": "code",
   "execution_count": null,
   "id": "diagnostic-study",
   "metadata": {},
   "outputs": [],
   "source": [
    "py\"\"\"\n",
    "import math\n",
    "def how_much_is_pi():\n",
    "    return f'The value of pi is approximately {math.pi:.3f}.'\n",
    "\"\"\"\n",
    "\n",
    "py\"how_much_is_pi\"()"
   ]
  },
  {
   "cell_type": "code",
   "execution_count": null,
   "id": "rational-great",
   "metadata": {},
   "outputs": [],
   "source": []
  }
 ],
 "metadata": {
  "kernelspec": {
   "display_name": "Julia 1.5.3",
   "language": "julia",
   "name": "julia-1.5"
  },
  "language_info": {
   "file_extension": ".jl",
   "mimetype": "application/julia",
   "name": "julia",
   "version": "1.5.4"
  }
 },
 "nbformat": 4,
 "nbformat_minor": 5
}
